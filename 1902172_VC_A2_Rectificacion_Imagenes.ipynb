{
  "nbformat": 4,
  "nbformat_minor": 0,
  "metadata": {
    "colab": {
      "provenance": [],
      "include_colab_link": true
    },
    "kernelspec": {
      "name": "python3",
      "display_name": "Python 3"
    },
    "language_info": {
      "name": "python"
    }
  },
  "cells": [
    {
      "cell_type": "markdown",
      "metadata": {
        "id": "view-in-github",
        "colab_type": "text"
      },
      "source": [
        "<a href=\"https://colab.research.google.com/github/G2JL/Computer_Vision/blob/main/1902172_VC_A2_Rectificacion_Imagenes.ipynb\" target=\"_parent\"><img src=\"https://colab.research.google.com/assets/colab-badge.svg\" alt=\"Open In Colab\"/></a>"
      ]
    },
    {
      "cell_type": "markdown",
      "source": [
        "# &emsp;&emsp; Universidad Autonoma de Nuevo Leon\n",
        "<br>\n",
        "\n",
        "# &emsp; Facultad de Ingeniería Mecánica y Eléctrica\n",
        "<br>\n",
        "\n",
        "## &emsp;&emsp;&emsp;&emsp;&emsp;&emsp; Visión por computadora</h2>\n",
        "<br>\n",
        "\n",
        "## &emsp; Actividad 2: Transfromaciones 2D y 3D\n",
        "\n",
        "### Nombre:\n",
        "\n",
        "### Matrícula:\n",
        "\n",
        "### Carrera: Ingeniero Biomédico\n",
        "\n",
        "### Fecha:"
      ],
      "metadata": {
        "id": "10X93AS1FBN4"
      }
    },
    {
      "cell_type": "markdown",
      "metadata": {
        "id": "UpRNlGMcwgsz"
      },
      "source": [
        "<font color='red'>WARNING-1: No se aceptan soluciones que usen metodologías distintas a las vistas en clases.</font>\n",
        "\n",
        "<font color='orange'>Está permitido usar los códigos de los ejemplos vistos en clases. Los enlaces se encuentran en el block de notas de teams</font>\n",
        "\n"
      ]
    },
    {
      "cell_type": "markdown",
      "metadata": {
        "id": "h1h2bAmpGfbf"
      },
      "source": [
        "# 0) Cambiar el nombre del archivo\n",
        "\n",
        "<font color='red'>WARNING-2: CAMBIA EL NOMBRE DEL ARCHIVO ipynb INCLUYENDO TU MATRÍCULA</font>\n",
        "\n",
        "Ejemplo, si su matrícula es 1234567, el nombre de este archivo debe cambiarse de \"E02_MATRÍCULA.ipynb\" a \"A02_1234567.ipynb\"\n"
      ]
    },
    {
      "cell_type": "markdown",
      "metadata": {
        "id": "nA44e9T1r-LC"
      },
      "source": [
        "# 1) Importe las Librerías\n",
        "\n",
        "(20 Puntos)\n",
        "\n",
        "*Todas las librerías de este código deben ir en esta celda. Sólo está permitido usar las librerías de los ejemplos vistos en clase.*\n",
        "\n"
      ]
    },
    {
      "cell_type": "code",
      "metadata": {
        "id": "UXiVKMkTrPU8"
      },
      "source": [
        " # PREGUNTA 1: ESCRIBA CODIGO AQUI"
      ],
      "execution_count": null,
      "outputs": []
    },
    {
      "cell_type": "markdown",
      "metadata": {
        "id": "K2boD201sK27"
      },
      "source": [
        "# 2) Corrección de Perspectiva\n",
        "\n",
        "(80 Puntos)\n",
        "\n",
        "Para la siguiente imagen, corrija la perspectiva de tal forma que el borde del reloj sea un círculo\n",
        "\n",
        "`https://www.dropbox.com/s/7gr195hwmjebq8b/clock.png`\n",
        "\n"
      ]
    },
    {
      "cell_type": "code",
      "metadata": {
        "id": "tOLCAadUnapj"
      },
      "source": [
        "# Coordenadas de las 12, 3, 6 y 9 (mp = m')\n",
        "xp = np.array([])  # buscadas manualmente\n",
        "yp = np.array([])  # buscadas manualmente\n",
        "\n",
        "# muestre la imagen con los puntos indicados por los arreglos xp y yp"
      ],
      "execution_count": null,
      "outputs": []
    },
    {
      "cell_type": "code",
      "source": [
        "# Coordenadas ideales del reloj, pertenecen a un circulo de radio r centrado en (q,q)\n",
        "q =\n",
        "r =\n",
        "x = np.array([q,q+r,q,q-r])\n",
        "y = np.array([q-r,q,q+r,q])"
      ],
      "metadata": {
        "id": "LsqFouijN5wJ"
      },
      "execution_count": null,
      "outputs": []
    },
    {
      "cell_type": "code",
      "source": [
        "# Estimation of H: mp = H*m\n",
        "\n",
        "def homography_matrix(m,mp):\n",
        "  (x ,y ) = m\n",
        "  (xp,yp) = mp\n",
        "  n       = len(x)\n",
        "  A       = np.zeros((2*n,9))\n",
        "  for i in range(n):\n",
        "    j = i*2\n",
        "    A[j  ,:] = [x[i], y[i], 1,     0,     0, 0, -x[i]*xp[i], -y[i]*xp[i], -xp[i]]\n",
        "    A[j+1,:] = [  0  ,   0  , 0, x[i], y[i], 1, -x[i]*yp[i], -y[i]*yp[i], -yp[i]]\n",
        "  np.save('Xmatrix',A)\n",
        "  [U,S,V] = np.linalg.svd(A)\n",
        "  h       = V[-1,:]\n",
        "  H       = np.vstack([h[0:3], h[3:6], h[6:9]])\n",
        "  return H"
      ],
      "metadata": {
        "id": "vdBwgd-tKjNP"
      },
      "execution_count": null,
      "outputs": []
    },
    {
      "cell_type": "code",
      "source": [
        "# Despliegue los vctores de los puntos de x y de xp\n",
        "\n",
        "#  Realize la estimacion de mp a partir de m\n",
        "\n",
        "\n",
        "print('Estimacion de mp a partir de m:')\n",
        "print('mps = ', (mmp[0,:],mmp[1,:]))"
      ],
      "metadata": {
        "id": "iVqY_tzaPKcw"
      },
      "execution_count": null,
      "outputs": []
    },
    {
      "cell_type": "code",
      "source": [
        "def homography(X,H):\n",
        "  Hinv  = np.linalg.inv(H)\n",
        "  Xp    = np.zeros((N,M),np.uint8)\n",
        "\n",
        "  m = np.ones((N*M,3))\n",
        "  t = 0\n",
        "  for i in range(N):\n",
        "    for j in range(M):\n",
        "      m[t,0:2] = [j,i]\n",
        "      t = t+1\n",
        "\n",
        "  mph = np.dot(Hinv,m.T)  # Transformation m to mp\n",
        "  mp  = np.divide(mph[0:2,:],mph[2,:])\n",
        "  mpf = np.fix(mp).astype(int)\n",
        "\n",
        "  ip = mpf[1,:]\n",
        "  jp = mpf[0,:]\n",
        "  ktj = np.logical_and(jp>=0,jp<M)\n",
        "  kti = np.logical_and(ip>=0,ip<N)\n",
        "  kt  = np.logical_and(kti,ktj)\n",
        "\n",
        "  t = 0\n",
        "  for i in range(N):\n",
        "    for j in range(M):\n",
        "      if kt[t]:\n",
        "        Xp[i,j] = X[ip[t],jp[t]]\n",
        "      t = t+1\n",
        "  return Xp"
      ],
      "metadata": {
        "id": "MlWdwReNPK0-"
      },
      "execution_count": null,
      "outputs": []
    },
    {
      "cell_type": "code",
      "source": [
        "# Calcule las transformaciones\n",
        "\n",
        "# Despliegue ambas imagenes\n",
        "print('Imagen izquierda: Reloj Circular       | Imagen derecha: Reloj Original')"
      ],
      "metadata": {
        "id": "i6lua4XRPyt4"
      },
      "execution_count": null,
      "outputs": []
    }
  ]
}